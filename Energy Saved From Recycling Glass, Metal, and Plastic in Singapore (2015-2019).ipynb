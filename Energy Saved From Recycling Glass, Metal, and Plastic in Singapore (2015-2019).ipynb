{
 "cells": [
  {
   "cell_type": "markdown",
   "metadata": {
    "dc": {
     "key": "4"
    },
    "deletable": false,
    "run_control": {
     "frozen": true
    },
    "tags": [
     "context"
    ]
   },
   "source": [
    "## Energy Saved From Recycling Glass, Metal, and Plastic in Singapore (2015-2019)\n",
    "\n",
    "Author: Ethan Galebach\n",
    "\n",
    "<p>Did you know that recycling saves energy by reducing or eliminating the need to make materials from scratch? For example, aluminum can manufacturers can skip the energy-costly process of producing aluminum from ore by cleaning and melting recycled cans. Aluminum is classified as a non-ferrous metal.</p>\n",
    "<p>Singapore has an ambitious goal of becoming a zero-waste nation. The amount of waste disposed of in Singapore has increased seven-fold over the last 40 years. At this rate, Semakau Landfill, Singapore’s only landfill, will run out of space by 2035. Making matters worse, Singapore has limited land for building new incineration plants or landfills.</p>\n",
    "<p><b>The government would like to motivate citizens by sharing the total energy that the combined recycling efforts of Glass, Metals, and Plastics have saved every year since 2015. </b> </p>\n",
    "<p> The data come from different teams, so the names of waste types may differ.</p>\n",
    "<div style=\"background-color: #efebe4; color: #05192d; text-align:left; vertical-align: middle; padding: 15px 25px 15px 25px; line-height: 1.6;\">\n",
    "    <div style=\"font-size:16px\"><b>datasets/wastestats.csv - Recycling statistics per waste type for the period 2003 to 2017</b>\n",
    "    </div>\n",
    "    <div>Source: <a href=\"https://www.nea.gov.sg/our-services/waste-management/waste-statistics-and-overall-recycling\">Singapore National Environment Agency</a></div>\n",
    "<ul>\n",
    "    <li><b>waste_type: </b>The type of waste recycled.</li>\n",
    "    <li><b>waste_disposed_of_tonne: </b>The amount of waste that could not be recycled (in metric tonnes).</li>\n",
    "    <li><b>total_waste_recycle_tonne: </b>The amount of waste that could be recycled (in metric tonnes).</li>\n",
    "    <li><b>total_waste_generated: </b>The total amount of waste collected before recycling (in metric tonnes).</li>\n",
    "    <li><b>recycling_rate: </b>The amount of waste recycled per tonne of waste generated.</li>\n",
    "    <li><b>year: </b>The recycling year.</li>\n",
    "</ul>\n",
    "    </div>\n",
    "<div style=\"background-color: #efebe4; color: #05192d; text-align:left; vertical-align: middle; padding: 15px 25px 15px 25px; line-height: 1.6; margin-top: 17px;\">\n",
    "    <div style=\"font-size:16px\"><b>datasets/2018_2019_waste.csv - Recycling statistics per waste type for the period 2018 to 2019</b>\n",
    "    </div>\n",
    "    <div> Source: <a href=\"https://www.nea.gov.sg/our-services/waste-management/waste-statistics-and-overall-recycling\">Singapore National Environment Agency</a></div>\n",
    "<ul>\n",
    "    <li><b>Waste Type: </b>The type of waste recycled.</li>\n",
    "    <li><b>Total Generated: </b>The total amount of waste collected before recycling (in thousands of metric tonnes).</li> \n",
    "    <li><b>Total Recycled: </b>The amount of waste that could be recycled. (in thousands of metric tonnes).</li>\n",
    "    <li><b>Year: </b>The recycling year.</li>\n",
    "</ul>\n",
    "    </div>\n",
    "<div style=\"background-color: #efebe4; color: #05192d; text-align:left; vertical-align: middle; padding: 15px 25px 15px 25px; line-height: 1.6; margin-top: 17px;\">\n",
    "    <div style=\"font-size:16px\"><b>datasets/energy_saved.csv -  Estimations of the amount of energy saved per waste type in kWh</b>\n",
    "    </div>\n",
    "<ul>\n",
    "    <li><b>material: </b>The type of waste recycled.</li>\n",
    "    <li><b>energy_saved: </b>An estimate of the energy saved (in kiloWatt hour) by recycling a metric tonne of waste.</li> \n",
    "    <li><b>crude_oil_saved: </b>An estimate of the number of barrels of oil saved by recycling a metric tonne of waste.</li>\n",
    "</ul>\n",
    "\n",
    "</div>\n",
    "<pre><code>\n",
    "</code></pre>\n",
    "\n",
    "Project Source: Datacamp"
   ]
  },
  {
   "cell_type": "code",
   "execution_count": 29,
   "metadata": {
    "dc": {
     "key": "4"
    },
    "tags": [
     "sample_code"
    ]
   },
   "outputs": [],
   "source": [
    "import numpy as np\n",
    "import pandas as pd\n",
    "import matplotlib.pyplot as plt\n",
    "import seaborn as sns"
   ]
  },
  {
   "cell_type": "code",
   "execution_count": 4,
   "metadata": {
    "dc": {
     "key": "4"
    }
   },
   "outputs": [
    {
     "data": {
      "text/html": [
       "<div>\n",
       "<style scoped>\n",
       "    .dataframe tbody tr th:only-of-type {\n",
       "        vertical-align: middle;\n",
       "    }\n",
       "\n",
       "    .dataframe tbody tr th {\n",
       "        vertical-align: top;\n",
       "    }\n",
       "\n",
       "    .dataframe thead th {\n",
       "        text-align: right;\n",
       "    }\n",
       "</style>\n",
       "<table border=\"1\" class=\"dataframe\">\n",
       "  <thead>\n",
       "    <tr style=\"text-align: right;\">\n",
       "      <th></th>\n",
       "      <th>Waste Type</th>\n",
       "      <th>year</th>\n",
       "      <th>Total Recycled (t)</th>\n",
       "    </tr>\n",
       "  </thead>\n",
       "  <tbody>\n",
       "    <tr>\n",
       "      <td>0</td>\n",
       "      <td>Ferrous Metal</td>\n",
       "      <td>2015</td>\n",
       "      <td>1333300.0</td>\n",
       "    </tr>\n",
       "    <tr>\n",
       "      <td>1</td>\n",
       "      <td>Ferrous Metal</td>\n",
       "      <td>2016</td>\n",
       "      <td>1351500.0</td>\n",
       "    </tr>\n",
       "    <tr>\n",
       "      <td>2</td>\n",
       "      <td>Ferrous Metal</td>\n",
       "      <td>2017</td>\n",
       "      <td>1371000.0</td>\n",
       "    </tr>\n",
       "    <tr>\n",
       "      <td>3</td>\n",
       "      <td>Glass</td>\n",
       "      <td>2015</td>\n",
       "      <td>14600.0</td>\n",
       "    </tr>\n",
       "    <tr>\n",
       "      <td>4</td>\n",
       "      <td>Glass</td>\n",
       "      <td>2016</td>\n",
       "      <td>14700.0</td>\n",
       "    </tr>\n",
       "    <tr>\n",
       "      <td>5</td>\n",
       "      <td>Glass</td>\n",
       "      <td>2017</td>\n",
       "      <td>12400.0</td>\n",
       "    </tr>\n",
       "    <tr>\n",
       "      <td>6</td>\n",
       "      <td>Non-Ferrous Metal</td>\n",
       "      <td>2015</td>\n",
       "      <td>160400.0</td>\n",
       "    </tr>\n",
       "    <tr>\n",
       "      <td>7</td>\n",
       "      <td>Non-Ferrous Metal</td>\n",
       "      <td>2016</td>\n",
       "      <td>95900.0</td>\n",
       "    </tr>\n",
       "    <tr>\n",
       "      <td>8</td>\n",
       "      <td>Non-Ferrous Metal</td>\n",
       "      <td>2017</td>\n",
       "      <td>92200.0</td>\n",
       "    </tr>\n",
       "    <tr>\n",
       "      <td>9</td>\n",
       "      <td>Plastic</td>\n",
       "      <td>2015</td>\n",
       "      <td>57800.0</td>\n",
       "    </tr>\n",
       "    <tr>\n",
       "      <td>10</td>\n",
       "      <td>Plastic</td>\n",
       "      <td>2016</td>\n",
       "      <td>59500.0</td>\n",
       "    </tr>\n",
       "    <tr>\n",
       "      <td>11</td>\n",
       "      <td>Plastic</td>\n",
       "      <td>2017</td>\n",
       "      <td>51800.0</td>\n",
       "    </tr>\n",
       "  </tbody>\n",
       "</table>\n",
       "</div>"
      ],
      "text/plain": [
       "           Waste Type  year  Total Recycled (t)\n",
       "0       Ferrous Metal  2015           1333300.0\n",
       "1       Ferrous Metal  2016           1351500.0\n",
       "2       Ferrous Metal  2017           1371000.0\n",
       "3               Glass  2015             14600.0\n",
       "4               Glass  2016             14700.0\n",
       "5               Glass  2017             12400.0\n",
       "6   Non-Ferrous Metal  2015            160400.0\n",
       "7   Non-Ferrous Metal  2016             95900.0\n",
       "8   Non-Ferrous Metal  2017             92200.0\n",
       "9             Plastic  2015             57800.0\n",
       "10            Plastic  2016             59500.0\n",
       "11            Plastic  2017             51800.0"
      ]
     },
     "execution_count": 4,
     "metadata": {},
     "output_type": "execute_result"
    }
   ],
   "source": [
    "#ETL: 2015-2017 Total Recycled Metric Tonnes (t) for each type of waste: waste_2015_2017\n",
    "\n",
    "wastestats = pd.read_csv('datasets/wastestats.csv')\n",
    "\n",
    "#Make category and column names consistent with other datasets\n",
    "wastestats['waste_type'] = wastestats['waste_type'].str.title()\n",
    "\n",
    "s = wastestats[~wastestats['waste_type'].str.endswith('ss')]['waste_type'] \\\n",
    "                                        .str.rstrip('s')\n",
    "\n",
    "wastestats['waste_type'] = s.combine_first(wastestats['waste_type'])\n",
    "\n",
    "waste_2015_2017 = wastestats[wastestats['waste_type'] \\\n",
    "                                 .isin(['Ferrous Metal','Non-Ferrous Metal','Plastic','Glass']) \\\n",
    "                             & wastestats['year'] \\\n",
    "                                 .isin(['2015','2016','2017','2018','2019'])] \\\n",
    "                        .groupby(['waste_type','year'])[['total_waste_recycled_tonne']] \\\n",
    "                        .sum() \\\n",
    "                        .reset_index()\n",
    "\n",
    "waste_2015_2017.rename(columns={'waste_type':'Waste Type', \\\n",
    "                                'total_waste_recycled_tonne':'Total Recycled (t)'} \\\n",
    "                       , inplace = True)\n",
    "\n",
    "waste_2015_2017"
   ]
  },
  {
   "cell_type": "code",
   "execution_count": 6,
   "metadata": {
    "dc": {
     "key": "4"
    }
   },
   "outputs": [
    {
     "data": {
      "text/html": [
       "<div>\n",
       "<style scoped>\n",
       "    .dataframe tbody tr th:only-of-type {\n",
       "        vertical-align: middle;\n",
       "    }\n",
       "\n",
       "    .dataframe tbody tr th {\n",
       "        vertical-align: top;\n",
       "    }\n",
       "\n",
       "    .dataframe thead th {\n",
       "        text-align: right;\n",
       "    }\n",
       "</style>\n",
       "<table border=\"1\" class=\"dataframe\">\n",
       "  <thead>\n",
       "    <tr style=\"text-align: right;\">\n",
       "      <th></th>\n",
       "      <th>Waste Type</th>\n",
       "      <th>year</th>\n",
       "      <th>Total Recycled (t)</th>\n",
       "    </tr>\n",
       "  </thead>\n",
       "  <tbody>\n",
       "    <tr>\n",
       "      <td>0</td>\n",
       "      <td>Ferrous Metal</td>\n",
       "      <td>2018</td>\n",
       "      <td>126000</td>\n",
       "    </tr>\n",
       "    <tr>\n",
       "      <td>1</td>\n",
       "      <td>Ferrous Metal</td>\n",
       "      <td>2019</td>\n",
       "      <td>1270000</td>\n",
       "    </tr>\n",
       "    <tr>\n",
       "      <td>2</td>\n",
       "      <td>Glass</td>\n",
       "      <td>2018</td>\n",
       "      <td>12000</td>\n",
       "    </tr>\n",
       "    <tr>\n",
       "      <td>3</td>\n",
       "      <td>Glass</td>\n",
       "      <td>2019</td>\n",
       "      <td>11000</td>\n",
       "    </tr>\n",
       "    <tr>\n",
       "      <td>4</td>\n",
       "      <td>Non-Ferrous Metal</td>\n",
       "      <td>2018</td>\n",
       "      <td>170000</td>\n",
       "    </tr>\n",
       "    <tr>\n",
       "      <td>5</td>\n",
       "      <td>Non-Ferrous Metal</td>\n",
       "      <td>2019</td>\n",
       "      <td>124000</td>\n",
       "    </tr>\n",
       "    <tr>\n",
       "      <td>6</td>\n",
       "      <td>Plastic</td>\n",
       "      <td>2018</td>\n",
       "      <td>41000</td>\n",
       "    </tr>\n",
       "    <tr>\n",
       "      <td>7</td>\n",
       "      <td>Plastic</td>\n",
       "      <td>2019</td>\n",
       "      <td>37000</td>\n",
       "    </tr>\n",
       "  </tbody>\n",
       "</table>\n",
       "</div>"
      ],
      "text/plain": [
       "          Waste Type  year  Total Recycled (t)\n",
       "0      Ferrous Metal  2018              126000\n",
       "1      Ferrous Metal  2019             1270000\n",
       "2              Glass  2018               12000\n",
       "3              Glass  2019               11000\n",
       "4  Non-Ferrous Metal  2018              170000\n",
       "5  Non-Ferrous Metal  2019              124000\n",
       "6            Plastic  2018               41000\n",
       "7            Plastic  2019               37000"
      ]
     },
     "execution_count": 6,
     "metadata": {},
     "output_type": "execute_result"
    }
   ],
   "source": [
    "#ETL: 2018-2019 Total Recycled Metric Tonnes (t) for each type of waste: waste_2018_2019\n",
    "\n",
    "waste_2018_2019_raw = pd.read_csv('datasets/2018_2019_waste.csv')\n",
    "\n",
    "#Make category and column names consistent with other datasets\n",
    "waste_2018_2019 = waste_2018_2019_raw.rename( \\\n",
    "                    columns={waste_2018_2019_raw.columns[2]: 'Total Recycled (t)', \\\n",
    "                             'waste_type':'Waste Type', \\\n",
    "                             'Year':'year'})\n",
    "\n",
    "s = waste_2018_2019[~waste_2018_2019['Waste Type'].str.endswith('ss')]['Waste Type'] \\\n",
    "        .str.rstrip('s')\n",
    "\n",
    "waste_2018_2019['Waste Type'] = s.combine_first(waste_2018_2019['Waste Type'])\n",
    "\n",
    "waste_2018_2019 = waste_2018_2019[waste_2018_2019['Waste Type'] \\\n",
    "                                    .isin(['Glass','Plastic','Ferrous Metal','Non-Ferrous Metal'])] \\\n",
    "                            .groupby(['Waste Type','year'])[['Total Recycled (t)']].sum().reset_index()\n",
    "\n",
    "waste_2018_2019['Total Recycled (t)'] = waste_2018_2019['Total Recycled (t)']*1000\n",
    "\n",
    "waste_2018_2019\n",
    "\n"
   ]
  },
  {
   "cell_type": "code",
   "execution_count": 22,
   "metadata": {
    "dc": {
     "key": "4"
    }
   },
   "outputs": [
    {
     "data": {
      "text/html": [
       "<div>\n",
       "<style scoped>\n",
       "    .dataframe tbody tr th:only-of-type {\n",
       "        vertical-align: middle;\n",
       "    }\n",
       "\n",
       "    .dataframe tbody tr th {\n",
       "        vertical-align: top;\n",
       "    }\n",
       "\n",
       "    .dataframe thead th {\n",
       "        text-align: right;\n",
       "    }\n",
       "</style>\n",
       "<table border=\"1\" class=\"dataframe\">\n",
       "  <thead>\n",
       "    <tr style=\"text-align: right;\">\n",
       "      <th></th>\n",
       "      <th>Waste Type</th>\n",
       "      <th>year</th>\n",
       "      <th>Total Recycled (t)</th>\n",
       "    </tr>\n",
       "  </thead>\n",
       "  <tbody>\n",
       "    <tr>\n",
       "      <td>0</td>\n",
       "      <td>Ferrous Metal</td>\n",
       "      <td>2018</td>\n",
       "      <td>126000.0</td>\n",
       "    </tr>\n",
       "    <tr>\n",
       "      <td>1</td>\n",
       "      <td>Ferrous Metal</td>\n",
       "      <td>2019</td>\n",
       "      <td>1270000.0</td>\n",
       "    </tr>\n",
       "    <tr>\n",
       "      <td>2</td>\n",
       "      <td>Glass</td>\n",
       "      <td>2018</td>\n",
       "      <td>12000.0</td>\n",
       "    </tr>\n",
       "    <tr>\n",
       "      <td>3</td>\n",
       "      <td>Glass</td>\n",
       "      <td>2019</td>\n",
       "      <td>11000.0</td>\n",
       "    </tr>\n",
       "    <tr>\n",
       "      <td>4</td>\n",
       "      <td>Non-Ferrous Metal</td>\n",
       "      <td>2018</td>\n",
       "      <td>170000.0</td>\n",
       "    </tr>\n",
       "    <tr>\n",
       "      <td>5</td>\n",
       "      <td>Non-Ferrous Metal</td>\n",
       "      <td>2019</td>\n",
       "      <td>124000.0</td>\n",
       "    </tr>\n",
       "    <tr>\n",
       "      <td>6</td>\n",
       "      <td>Plastic</td>\n",
       "      <td>2018</td>\n",
       "      <td>41000.0</td>\n",
       "    </tr>\n",
       "    <tr>\n",
       "      <td>7</td>\n",
       "      <td>Plastic</td>\n",
       "      <td>2019</td>\n",
       "      <td>37000.0</td>\n",
       "    </tr>\n",
       "    <tr>\n",
       "      <td>8</td>\n",
       "      <td>Ferrous Metal</td>\n",
       "      <td>2015</td>\n",
       "      <td>1333300.0</td>\n",
       "    </tr>\n",
       "    <tr>\n",
       "      <td>9</td>\n",
       "      <td>Ferrous Metal</td>\n",
       "      <td>2016</td>\n",
       "      <td>1351500.0</td>\n",
       "    </tr>\n",
       "    <tr>\n",
       "      <td>10</td>\n",
       "      <td>Ferrous Metal</td>\n",
       "      <td>2017</td>\n",
       "      <td>1371000.0</td>\n",
       "    </tr>\n",
       "    <tr>\n",
       "      <td>11</td>\n",
       "      <td>Glass</td>\n",
       "      <td>2015</td>\n",
       "      <td>14600.0</td>\n",
       "    </tr>\n",
       "    <tr>\n",
       "      <td>12</td>\n",
       "      <td>Glass</td>\n",
       "      <td>2016</td>\n",
       "      <td>14700.0</td>\n",
       "    </tr>\n",
       "    <tr>\n",
       "      <td>13</td>\n",
       "      <td>Glass</td>\n",
       "      <td>2017</td>\n",
       "      <td>12400.0</td>\n",
       "    </tr>\n",
       "    <tr>\n",
       "      <td>14</td>\n",
       "      <td>Non-Ferrous Metal</td>\n",
       "      <td>2015</td>\n",
       "      <td>160400.0</td>\n",
       "    </tr>\n",
       "    <tr>\n",
       "      <td>15</td>\n",
       "      <td>Non-Ferrous Metal</td>\n",
       "      <td>2016</td>\n",
       "      <td>95900.0</td>\n",
       "    </tr>\n",
       "    <tr>\n",
       "      <td>16</td>\n",
       "      <td>Non-Ferrous Metal</td>\n",
       "      <td>2017</td>\n",
       "      <td>92200.0</td>\n",
       "    </tr>\n",
       "    <tr>\n",
       "      <td>17</td>\n",
       "      <td>Plastic</td>\n",
       "      <td>2015</td>\n",
       "      <td>57800.0</td>\n",
       "    </tr>\n",
       "    <tr>\n",
       "      <td>18</td>\n",
       "      <td>Plastic</td>\n",
       "      <td>2016</td>\n",
       "      <td>59500.0</td>\n",
       "    </tr>\n",
       "    <tr>\n",
       "      <td>19</td>\n",
       "      <td>Plastic</td>\n",
       "      <td>2017</td>\n",
       "      <td>51800.0</td>\n",
       "    </tr>\n",
       "  </tbody>\n",
       "</table>\n",
       "</div>"
      ],
      "text/plain": [
       "           Waste Type  year  Total Recycled (t)\n",
       "0       Ferrous Metal  2018            126000.0\n",
       "1       Ferrous Metal  2019           1270000.0\n",
       "2               Glass  2018             12000.0\n",
       "3               Glass  2019             11000.0\n",
       "4   Non-Ferrous Metal  2018            170000.0\n",
       "5   Non-Ferrous Metal  2019            124000.0\n",
       "6             Plastic  2018             41000.0\n",
       "7             Plastic  2019             37000.0\n",
       "8       Ferrous Metal  2015           1333300.0\n",
       "9       Ferrous Metal  2016           1351500.0\n",
       "10      Ferrous Metal  2017           1371000.0\n",
       "11              Glass  2015             14600.0\n",
       "12              Glass  2016             14700.0\n",
       "13              Glass  2017             12400.0\n",
       "14  Non-Ferrous Metal  2015            160400.0\n",
       "15  Non-Ferrous Metal  2016             95900.0\n",
       "16  Non-Ferrous Metal  2017             92200.0\n",
       "17            Plastic  2015             57800.0\n",
       "18            Plastic  2016             59500.0\n",
       "19            Plastic  2017             51800.0"
      ]
     },
     "execution_count": 22,
     "metadata": {},
     "output_type": "execute_result"
    }
   ],
   "source": [
    "#Union 2015-2017 data and 2018-2019 data: waste\n",
    "\n",
    "waste = pd.concat([waste_2018_2019,waste_2015_2017], ignore_index=True)\n",
    "\n",
    "waste['year'] = waste['year'].astype(int)\n",
    "\n",
    "waste"
   ]
  },
  {
   "cell_type": "code",
   "execution_count": 33,
   "metadata": {
    "scrolled": true
   },
   "outputs": [
    {
     "data": {
      "image/png": "[encoded data removed]",
      "text/plain": [
       "<Figure size 432x288 with 1 Axes>"
      ]
     },
     "metadata": {
      "needs_background": "light"
     },
     "output_type": "display_data"
    }
   ],
   "source": [
    "ax = sns.lineplot(x = 'year', y = 'Total Recycled (t)', hue = 'Waste Type', data = waste, \n",
    "            style = 'Waste Type', markers = True, dashes = True)\n",
    "\n",
    "plt.xticks(np.arange(2015,2020))\n",
    "\n",
    "plt.xlabel(\"Year\")\n",
    "plt.title(\"Metric Tonnes Recycled Each Year By Waste Type\")\n",
    "\n",
    "plt.show()\n"
   ]
  },
  {
   "cell_type": "code",
   "execution_count": 8,
   "metadata": {
    "dc": {
     "key": "4"
    }
   },
   "outputs": [
    {
     "name": "stdout",
     "output_type": "stream",
     "text": [
      "The table gives the amount of energy saved in kilowatt hour (kWh) and the amount of crude oil (barrels) by recycling 1 metric tonne (1000 kilogram)  per waste type\n"
     ]
    }
   ],
   "source": [
    "#Print description of the energy_saved csv file\n",
    "\n",
    "energy_saved_raw = pd.read_csv('datasets/energy_saved.csv', index_col = 0)\n",
    "\n",
    "print(energy_saved_raw.index.name)"
   ]
  },
  {
   "cell_type": "code",
   "execution_count": 9,
   "metadata": {
    "dc": {
     "key": "4"
    }
   },
   "outputs": [
    {
     "data": {
      "text/html": [
       "<div>\n",
       "<style scoped>\n",
       "    .dataframe tbody tr th:only-of-type {\n",
       "        vertical-align: middle;\n",
       "    }\n",
       "\n",
       "    .dataframe tbody tr th {\n",
       "        vertical-align: top;\n",
       "    }\n",
       "\n",
       "    .dataframe thead th {\n",
       "        text-align: right;\n",
       "    }\n",
       "</style>\n",
       "<table border=\"1\" class=\"dataframe\">\n",
       "  <thead>\n",
       "    <tr style=\"text-align: right;\">\n",
       "      <th></th>\n",
       "      <th>material</th>\n",
       "      <th>energy_saved</th>\n",
       "    </tr>\n",
       "  </thead>\n",
       "  <tbody>\n",
       "    <tr>\n",
       "      <td>0</td>\n",
       "      <td>Plastic</td>\n",
       "      <td>5774</td>\n",
       "    </tr>\n",
       "    <tr>\n",
       "      <td>1</td>\n",
       "      <td>Glass</td>\n",
       "      <td>42</td>\n",
       "    </tr>\n",
       "    <tr>\n",
       "      <td>2</td>\n",
       "      <td>Ferrous Metal</td>\n",
       "      <td>642</td>\n",
       "    </tr>\n",
       "    <tr>\n",
       "      <td>3</td>\n",
       "      <td>Non-Ferrous Metal</td>\n",
       "      <td>14000</td>\n",
       "    </tr>\n",
       "    <tr>\n",
       "      <td>4</td>\n",
       "      <td>Paper</td>\n",
       "      <td>4000</td>\n",
       "    </tr>\n",
       "  </tbody>\n",
       "</table>\n",
       "</div>"
      ],
      "text/plain": [
       "            material  energy_saved\n",
       "0            Plastic          5774\n",
       "1              Glass            42\n",
       "2      Ferrous Metal           642\n",
       "3  Non-Ferrous Metal         14000\n",
       "4              Paper          4000"
      ]
     },
     "execution_count": 9,
     "metadata": {},
     "output_type": "execute_result"
    }
   ],
   "source": [
    "#ETL: kWh saved per 1 metric tonne recycled by material: energy_saved\n",
    "\n",
    "energy_saved = energy_saved_raw.T[['material','energy_saved']].reset_index(drop=True)\n",
    "\n",
    "energy_saved.columns.name = None\n",
    "\n",
    "energy_saved['energy_saved'] = pd.to_numeric(energy_saved['energy_saved'].str.rstrip(' Kwh').str.rstrip(' kWh'))\n",
    "\n",
    "energy_saved"
   ]
  },
  {
   "cell_type": "code",
   "execution_count": 47,
   "metadata": {},
   "outputs": [
    {
     "data": {
      "image/png": "[encoded data removed]",
      "text/plain": [
       "<Figure size 432x288 with 1 Axes>"
      ]
     },
     "metadata": {
      "needs_background": "light"
     },
     "output_type": "display_data"
    }
   ],
   "source": [
    "ax = sns.barplot(x = 'material', y = 'energy_saved', hue = 'material', data = energy_saved)\n",
    "\n",
    "plt.xlabel(\"Waste Type\")\n",
    "ax.set_xticklabels(energy_saved['material'], rotation = 45)\n",
    "plt.ylabel(\"Energy Saved (kWh) Per Recycled Metric Tonne (t)\")\n",
    "plt.title(\"Energy Saved (kWh) Per Recycled Metric Tonne (t) by Waste Type\")\n",
    "plt.show()"
   ]
  },
  {
   "cell_type": "code",
   "execution_count": 58,
   "metadata": {
    "dc": {
     "key": "4"
    }
   },
   "outputs": [
    {
     "data": {
      "image/png": "[encoded data removed]",
      "text/plain": [
       "<Figure size 432x288 with 1 Axes>"
      ]
     },
     "metadata": {
      "needs_background": "light"
     },
     "output_type": "display_data"
    }
   ],
   "source": [
    "#Compute and plot total kWhs saved each year\n",
    "saved = waste.merge(energy_saved, left_on = 'Waste Type', right_on = 'material')\n",
    "\n",
    "saved['total_energy_saved'] = saved['Total Recycled (t)'].multiply(saved['energy_saved']) \\\n",
    "                                                         .div(1000000)\n",
    "\n",
    "annual_energy_savings = saved.groupby('year')[['total_energy_saved']].sum()\n",
    "\n",
    "ax = sns.lineplot(x = annual_energy_savings.index, y = 'total_energy_saved', data = annual_energy_savings,\n",
    "                  marker = 'o')\n",
    "\n",
    "plt.xticks(np.arange(2015,2020))\n",
    "\n",
    "plt.xlabel(\"Year\")\n",
    "plt.ylabel(\"Total Energy Saved (gWh)\")\n",
    "plt.title(\"Gigawatt-hours Saved Each Year Recycling Glass, Metal, and Plastic\")\n",
    "\n",
    "plt.show()"
   ]
  },
  {
   "cell_type": "markdown",
   "metadata": {
    "dc": {
     "key": "4"
    }
   },
   "source": [
    "## Conclusions\n",
    "\n",
    "Recycled metals (both ferrous and non-ferrous) have been the largest contributor to total energy saved.  \n",
    "\n",
    "If Singapore wants to prioritize saving energy on its way to zero waste, it should prioritze incentives for consumers to recycle metals over glass and plastic."
   ]
  }
 ],
 "metadata": {
  "celltoolbar": "Edit Metadata",
  "kernelspec": {
   "display_name": "Python 3",
   "language": "python",
   "name": "python3"
  },
  "language_info": {
   "codemirror_mode": {
    "name": "ipython",
    "version": 3
   },
   "file_extension": ".py",
   "mimetype": "text/x-python",
   "name": "python",
   "nbconvert_exporter": "python",
   "pygments_lexer": "ipython3",
   "version": "3.7.4"
  }
 },
 "nbformat": 4,
 "nbformat_minor": 2
}
